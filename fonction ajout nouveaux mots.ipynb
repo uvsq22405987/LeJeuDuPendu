{
 "cells": [
  {
   "cell_type": "code",
   "execution_count": null,
   "id": "dadaebba",
   "metadata": {},
   "outputs": [],
   "source": [
    "def ajout_nouveau_mot(nouveau_mot):    \n",
    "    if len(nouveau_mot)<4:\n",
    "        print(\"Veuillez choisir un mot plus long.\")\n",
    "        return\n",
    "    if len(nouveau_mot)>10:\n",
    "        print(\"Veuillez choisir un mot plus court.\")\n",
    "        return\n",
    "    if nouveau_mot not in mots[len(nouveau_mot)] :\n",
    "        mots[len(nouveau_mot)].append(nouveau_mot)\n",
    "        print(\"Le mot : '\",nouveau_mot,\"' a été ajouté.\")\n",
    "    elif nouveau_mot in mots[len(nouveau_mot)] : \n",
    "        print(\"Le mot : '\",nouveau_mot,\"' est déjà dans le dictionnaire.\")\n",
    "    return mots\n",
    "\n",
    "ajout_nouveau_mot(nouveau_mot=input(\"Choisissez un nouveau mot à ajouter.\"))\n",
    "print(mots)"
   ]
  }
 ],
 "metadata": {
  "language_info": {
   "name": "python"
  }
 },
 "nbformat": 4,
 "nbformat_minor": 5
}
