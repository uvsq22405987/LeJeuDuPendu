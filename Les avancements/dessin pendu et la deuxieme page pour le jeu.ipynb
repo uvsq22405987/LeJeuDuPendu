{
 "cells": [
  {
   "cell_type": "code",
   "execution_count": null,
   "metadata": {},
   "outputs": [],
   "source": [
    "import tkinter as tk\n",
    "import random\n",
    "\n",
    "\n",
    "def deuxieme_page():\n",
    "    global root, main_frame, view_canvas, view\n",
    "    root = tk.Tk()\n",
    "\n",
    "    root.title(\"Le jeu du pendu\")\n",
    "    main_frame = tk.Frame(root)\n",
    "    main_frame.pack(fill=tk.BOTH, expand=1)\n",
    "\n",
    "    view_canvas = tk.Canvas(main_frame, width=1200, height=600, bg=\"black\")\n",
    "    view_canvas.pack(side=tk.TOP, fill=tk.BOTH, expand=1)\n",
    "\n",
    "\n",
    "def dessin_pendu(erreurs):\n",
    "        if erreurs >= 0:\n",
    "            view_canvas.create_line(500,100,500,300, fill='white', width=2)\n",
    "            view_canvas.create_line(500,100,600,100, fill='white', width=2)\n",
    "        if erreurs >=1:\n",
    "            view_canvas.create_line(600,100,600,110, fill='white', width=2)\n",
    "        if erreurs >=2:\n",
    "            view_canvas.create_oval(580,110,620,150, fill='white', width=2)\n",
    "        if erreurs >=3:\n",
    "            view_canvas.create_line(600,150,600,200, fill='white', width=2)\n",
    "        if erreurs >=4:\n",
    "            view_canvas.create_line(600,150,575,175, fill='white', width=2)\n",
    "        if erreurs >=5:\n",
    "            view_canvas.create_line(600,150,625,175, fill='white', width=2)\n",
    "        if erreurs >=6:\n",
    "            view_canvas.create_line(600,200,575,225, fill='white', width=2)\n",
    "        if erreurs >=7:\n",
    "            view_canvas.create_line(600,200,625,225, fill='white', width=2)\n",
    "\n",
    "longueur_mot = int(input(\"Choisir la longueur du mots entre 4 et 10\"))\n",
    "\n",
    "def choisir_mot(longueur_mot):\n",
    "    mots = {4:[\"loup\",\"lots\",\"jour\",\"chat\",\"aide\",\"code\"],\n",
    "    5:[\"loupe\",\"soupe\",\"livre\",\"sable\",\"fleur\",\"glace\",\"neige\",\"nuage\",\"terre\",\"pomme\",\"table\",\"chien\",\"liste\",\"photo\"],\n",
    "    6:[\"soleil\",\"maison\",\"raison\",\"animal\",\"moteur\",\"projet\"],\n",
    "    7:[\"bonjour\",\"hopital\",\"voiture\",\"trousse\",\"aimable\",\"chateau\",\"costume\",\"horloge\",\"famille\",\"bonheur\",\"travail\"],\n",
    "    8:[\"amoureux\",\"cartable\",\"voyageur\",\"magicien\",\"patience\",\"correcte\",\"sagesse\"],\n",
    "    9:[\"mangouste\",\"confusion\",\"isolation\",\"imprudent\",\"solitaire\",\"certitude\",\"optimiste\"],\n",
    "    10:[\"silencieux\",\"maintenant\",\"importance\",\"abonnement\",\"impression\"]}\n",
    "\n",
    "    global mot_choisi\n",
    "    mot_choisi = random.choice(mots[longueur_mot])\n",
    "    return mot_choisi\n",
    "\n",
    "\n",
    "if __name__ == \"__main__\":\n",
    "    deuxieme_page()\n",
    "\n",
    "root.mainloop()"
   ]
  }
 ],
 "metadata": {
  "kernelspec": {
   "display_name": "base",
   "language": "python",
   "name": "python3"
  },
  "language_info": {
   "codemirror_mode": {
    "name": "ipython",
    "version": 3
   },
   "file_extension": ".py",
   "mimetype": "text/x-python",
   "name": "python",
   "nbconvert_exporter": "python",
   "pygments_lexer": "ipython3",
   "version": "3.12.3"
  }
 },
 "nbformat": 4,
 "nbformat_minor": 2
}
