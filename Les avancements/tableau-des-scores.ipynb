{
 "cells": [
  {
   "cell_type": "code",
   "execution_count": null,
   "id": "278339f1",
   "metadata": {},
   "outputs": [],
   "source": [
    "def calculer_score(longueur_mot, tentatives, indices_utilises): # Fonction pour calculer le score d'un joueur\n",
    "    # Points de base selon la longueur du mot : on donne 4 points par lettre\n",
    "    points_base = longueur_mot * 4  # Exemple : 4 points par lettre du mot choisi\n",
    "\n",
    "    points_reduction = 0  # Initialisation des points de réduction\n",
    "\n",
    "    # Réduction des points pour les indices utilisés\n",
    "    points_reduction += indices_utilises * 2  # -2 points par indice utilisé\n",
    "\n",
    "    # Réduction des points uniquement si le joueur dépasse le nombre de tentatives \"parfait\"\n",
    "    # S'il fait un sans-faute (1 tentative par lettre), il ne perd aucun point\n",
    "    if tentatives > longueur_mot: # Si le joueur a fait plus de tentatives que de lettres dans le mot \n",
    "        points_reduction += (tentatives - longueur_mot) * 1  # -1 point par tentative en trop\n",
    "\n",
    "    # Calcul final du score\n",
    "    score_final = points_base - points_reduction  # Score final = points de base - pénalités\n",
    "\n",
    "    # On ne veut pas de score négatif\n",
    "    if score_final < 0: # Si le score est négatif \n",
    "        score_final = 0 # On le ramène à 0 \n",
    "\n",
    "    return score_final  # Retourne le score final\n",
    "\n"
   ]
  },
  {
   "cell_type": "code",
   "execution_count": null,
   "id": "230e5709",
   "metadata": {},
   "outputs": [],
   "source": [
    "\n"
   ]
  }
 ],
 "metadata": {
  "kernelspec": {
   "display_name": "base",
   "language": "python",
   "name": "python3"
  },
  "language_info": {
   "codemirror_mode": {
    "name": "ipython",
    "version": 3
   },
   "file_extension": ".py",
   "mimetype": "text/x-python",
   "name": "python",
   "nbconvert_exporter": "python",
   "pygments_lexer": "ipython3",
   "version": "3.12.3"
  }
 },
 "nbformat": 4,
 "nbformat_minor": 5
}
