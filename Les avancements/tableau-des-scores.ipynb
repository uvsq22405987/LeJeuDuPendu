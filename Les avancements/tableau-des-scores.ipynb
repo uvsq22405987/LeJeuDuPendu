{
 "cells": [
  {
   "cell_type": "code",
   "execution_count": null,
   "id": "278339f1",
   "metadata": {},
   "outputs": [
    {
     "name": "stdout",
     "output_type": "stream",
     "text": [
      "Le score pour ce mot est : 1 points\n"
     ]
    }
   ],
   "source": [
    "def calculer_score(longueur_mot, tentatives, indices_utilises): # Fonction pour calculer le score\n",
    "    # Points de base selon la longueur du mot\n",
    "    points_base = longueur_mot + 4  # 4 points de base pour chaque lettre du mot\n",
    "    points_reduction = 0 # Initialisation des points de réduction\n",
    "\n",
    "    # Réduction des points pour les indices utilisés\n",
    "    points_reduction += indices_utilises * 2  # -2 points par indice utilisé\n",
    "\n",
    "    # Réduction des points en fonction du nombre de tentatives\n",
    "    if tentatives > 1: # Si le nombre de tentatives est supérieur à 1\n",
    "        points_reduction += (tentatives - 1) * 1  # -1 point pour chaque tentative après la première\n",
    "\n",
    "    # Calcul final du score\n",
    "    score_final = points_base - points_reduction # Score final = points de base - points de réduction\n",
    "\n",
    "    # On ne veut pas de score négatif, donc si le score devient négatif, on le met à 0\n",
    "    if score_final < 0: # Si le score final est inférieur à 0\n",
    "        score_final = 0 # Si le score final est inférieur à 0, on le met à 0\n",
    "\n",
    "    return score_final # Retourne le score final calculé\n"
   ]
  },
  {
   "cell_type": "code",
   "execution_count": null,
   "id": "230e5709",
   "metadata": {},
   "outputs": [],
   "source": [
    "\n"
   ]
  }
 ],
 "metadata": {
  "kernelspec": {
   "display_name": "base",
   "language": "python",
   "name": "python3"
  },
  "language_info": {
   "codemirror_mode": {
    "name": "ipython",
    "version": 3
   },
   "file_extension": ".py",
   "mimetype": "text/x-python",
   "name": "python",
   "nbconvert_exporter": "python",
   "pygments_lexer": "ipython3",
   "version": "3.12.3"
  }
 },
 "nbformat": 4,
 "nbformat_minor": 5
}
